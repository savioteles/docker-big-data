{
 "cells": [
  {
   "cell_type": "markdown",
   "metadata": {},
   "source": [
    "# HDFS\n",
    "\n",
    "Hadoop é um ecossistema muito popular de Big Data escrito em Java. Mas não é necessário usar Java para trabalhar com o Hadoop. Algumas outras linguagens de programação como Python também podem ser usadas. Python também pode ser usado para escrever código para Hadoop. \n",
    "\n",
    "Neste tutorial iremos ler e escrever dados no Hadoop Distributed File System (HDFS). O HDFS é um sistema de arquivos distribuído nativo do Hadoop que permite o armazenamento e transmissão de grandes conjuntos de dados em máquinas de baixo custo. Possui mecanismos que o caracteriza como um sistema altamente tolerante a falhas."
   ]
  },
  {
   "cell_type": "markdown",
   "metadata": {},
   "source": [
    "# Instalação da biblioteca HDFS em Python\n",
    "\n",
    "Para conseguirmos ler e escrever os arquivos no HDFS é necessário instalar a biblioteca em Python."
   ]
  },
  {
   "cell_type": "code",
   "execution_count": null,
   "metadata": {},
   "outputs": [],
   "source": [
    "!pip install hdfs"
   ]
  },
  {
   "cell_type": "markdown",
   "metadata": {},
   "source": [
    "# Escrita e Leitura de dados no HDFS\n",
    "\n",
    "Neste tutorial iremos criar um DataFrame Pandas em Python e escrever o resultado em um arquivo `.csv` no HDFS."
   ]
  },
  {
   "cell_type": "markdown",
   "metadata": {},
   "source": [
    "O primeiro passo é importar as bibliotecas do `pandas`, `hdfs` e `os` para conseguir ler e escrever os dados."
   ]
  },
  {
   "cell_type": "code",
   "execution_count": null,
   "metadata": {},
   "outputs": [],
   "source": [
    "import pandas as pd\n",
    "from hdfs import InsecureClient\n",
    "import os"
   ]
  },
  {
   "cell_type": "markdown",
   "metadata": {},
   "source": [
    "No código abaixo criamos uma conexão com o HDFS no host `namenode` e na porta `50070`. Importante notar que quem responde as solicitações de escrita e leitura é o Namenode e, por isso, colocamos o hostname do Namenode do HDFS."
   ]
  },
  {
   "cell_type": "code",
   "execution_count": null,
   "metadata": {},
   "outputs": [],
   "source": [
    "client_hdfs = InsecureClient('http://namenode:50070')"
   ]
  },
  {
   "cell_type": "markdown",
   "metadata": {},
   "source": [
    "Iremos criar um DataFrame pandas que contem duas colunas: `estudante` e `nota`."
   ]
  },
  {
   "cell_type": "code",
   "execution_count": null,
   "metadata": {},
   "outputs": [],
   "source": [
    "# Criação de um Pandas DataFrame\n",
    "estudantes = ['Luis','Gabriel']\n",
    "notas = [9, 9.5]\n",
    "df = pd.DataFrame(data = {'estudante' : estudantes, 'nota': notas})"
   ]
  },
  {
   "cell_type": "markdown",
   "metadata": {},
   "source": [
    "O código abaixo escreve o Dataframe `df` no HDFS no caminho `/user/hdfs/notas.csv`"
   ]
  },
  {
   "cell_type": "code",
   "execution_count": null,
   "metadata": {},
   "outputs": [],
   "source": [
    "# EScrita do Dataframe df no HDFS\n",
    "with client_hdfs.write('/user/hdfs/notas.csv', encoding = 'utf-8') as writer:\n",
    "  df.to_csv(writer)"
   ]
  },
  {
   "cell_type": "markdown",
   "metadata": {},
   "source": [
    "Finalmente iremos ler os dados de `/user/hdfs/notas.csv` em um DataFrame Pandas `notas_df`."
   ]
  },
  {
   "cell_type": "code",
   "execution_count": null,
   "metadata": {},
   "outputs": [],
   "source": [
    "# ====== Leitra dos arquivos ======\n",
    "with client_hdfs.read('/user/hdfs/notas.csv', encoding = 'utf-8') as reader:\n",
    "  notas_df = pd.read_csv(reader,index_col=0)"
   ]
  },
  {
   "cell_type": "code",
   "execution_count": null,
   "metadata": {},
   "outputs": [],
   "source": [
    "notas_df"
   ]
  },
  {
   "cell_type": "markdown",
   "metadata": {},
   "source": [
    "# Tarefa\n",
    "\n",
    "Agora você vai construir um DataFrame pandas e escrever os dados do DataFrame no HDFS no caminho `/user/hdfs/temperatura.csv`. Este DataFrame deve ter o conteúdo abaixo com duas colunas: `cidade` e `temperatura`. Depois leia o arquivo `/user/hdfs/temperatura.csv` em um DataFrame Pandas e imprima o DataFrame na tela.\n",
    "\n",
    "```code\n",
    "cidades = ['São Paulo','Rio de Janeiro']\n",
    "temperaturas = [14.2, 39.5]\n",
    "```"
   ]
  }
 ],
 "metadata": {
  "kernelspec": {
   "display_name": "Python 3",
   "language": "python",
   "name": "python3"
  },
  "language_info": {
   "codemirror_mode": {
    "name": "ipython",
    "version": 3
   },
   "file_extension": ".py",
   "mimetype": "text/x-python",
   "name": "python",
   "nbconvert_exporter": "python",
   "pygments_lexer": "ipython3",
   "version": "3.6.10"
  }
 },
 "nbformat": 4,
 "nbformat_minor": 2
}

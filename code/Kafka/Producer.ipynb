{
 "cells": [
  {
   "cell_type": "markdown",
   "metadata": {},
   "source": [
    "# Kafka\n",
    "\n",
    "O Apache Kafka é uma plataforma de streaming distribuída de software livre que pode ser usada para compilar pipelines e aplicativos de dados de streaming em tempo real. O Kafka também fornece funcionalidade de agente de mensagem semelhante a uma fila de mensagens, onde você pode publicar e assinar os fluxos de dados nomeados.\n",
    "\n",
    "A API de produtor do Kafka permite que os aplicativos enviam fluxos de dados para o cluster Kafka. A API de consumidor do Kafka permite que os aplicativos leiam fluxos de dados do cluster."
   ]
  },
  {
   "cell_type": "markdown",
   "metadata": {},
   "source": [
    "Neste tutorial, você irá aprender como criar produtores e consumidores para clusters Kafka utilizando Python. Iremos instalar a biblioteca `confluent-kafka` que irá nos permitir utilizar a API do Kafka em Python."
   ]
  },
  {
   "cell_type": "code",
   "execution_count": null,
   "metadata": {},
   "outputs": [],
   "source": [
    "!pip install confluent-kafka"
   ]
  },
  {
   "cell_type": "markdown",
   "metadata": {},
   "source": [
    "# Produtor\n",
    "\n",
    "O produtor se comunica com os hosts de agente de Kafka (nós de trabalho) e envia dados a um tópico Kafka.\n",
    "\n",
    "No código abaixo importamos a classe `Producer` para enviar mensagens para o Kafka."
   ]
  },
  {
   "cell_type": "code",
   "execution_count": null,
   "metadata": {},
   "outputs": [],
   "source": [
    "from confluent_kafka import Producer"
   ]
  },
  {
   "cell_type": "markdown",
   "metadata": {},
   "source": [
    "Iremos produzir mensagens *fake* para o tópico do Kafka. Por isso, iremos utilizar a biblioteca faker do Python que gera nomes, endereços, cidades, etc... fakes para podermos construir uma mensagem *fake*."
   ]
  },
  {
   "cell_type": "code",
   "execution_count": null,
   "metadata": {},
   "outputs": [],
   "source": [
    "!pip install faker"
   ]
  },
  {
   "cell_type": "markdown",
   "metadata": {},
   "source": [
    "Abaixo as bibliotecas são importadas para serem utilizadas no Produtor."
   ]
  },
  {
   "cell_type": "code",
   "execution_count": null,
   "metadata": {},
   "outputs": [],
   "source": [
    "import json\n",
    "import random\n",
    "from faker import Faker"
   ]
  },
  {
   "cell_type": "markdown",
   "metadata": {},
   "source": [
    "Iniciamos o objeto Faker que será utilizado para criar dados *fake*."
   ]
  },
  {
   "cell_type": "code",
   "execution_count": null,
   "metadata": {},
   "outputs": [],
   "source": [
    "fake=Faker()"
   ]
  },
  {
   "cell_type": "markdown",
   "metadata": {},
   "source": [
    "Para criar um produtor de mensagens, devemos informar onde está o cluster do Kafka. Para isto definimos em `bootstrap.servers` o IP e porta do cluster do Kafka. Neste tutorial, o IP é *kafka* e a porta *9092*."
   ]
  },
  {
   "cell_type": "code",
   "execution_count": null,
   "metadata": {},
   "outputs": [],
   "source": [
    "producer=Producer({'bootstrap.servers':'kafka:9092'})\n",
    "print('Kafka Producer foi inicializado...')"
   ]
  },
  {
   "cell_type": "markdown",
   "metadata": {},
   "source": [
    "### Criação de mensagens\n",
    "\n",
    "Neste tutorial iremos enviar 10 mensagens para o tópico `usuarios_plataforma` do Kafka. Iremos enviar uma mensagem com os seguintes campos:\n",
    "\n",
    "- id_usuario\n",
    "- nome_usuario\n",
    "- endereco_usuario\n",
    "- platforma\n",
    "- data_cadastro"
   ]
  },
  {
   "cell_type": "code",
   "execution_count": null,
   "metadata": {},
   "outputs": [],
   "source": [
    "import time\n",
    "for i in range(10):\n",
    "    # constroi o JSON que será enviado como mensagem\n",
    "    data={\n",
    "       'id_usuario': fake.random_int(min=20000, max=100000),\n",
    "       'nome_usuario':fake.name(),\n",
    "       'endereco_usuario':fake.street_address() + ' | ' + fake.city() + ' | ' + fake.country_code(),\n",
    "       'platforma': random.choice(['Celular', 'Notebook', 'Tablet']),\n",
    "       'data_cadastro': str(fake.date_time_this_month())    \n",
    "       }\n",
    "    # converte o JSON para string para ser enviado no Kafka\n",
    "    m=json.dumps(data)\n",
    "    # publica a mensagem no tópico 'usuarios' com codificação UTF-8\n",
    "    producer.produce('usuarios_plataforma', m.encode('utf-8'))\n",
    "    \n",
    "    print(f\"Enviado mensagem: {data}\")\n",
    "    \n",
    "    time.sleep(3)\n",
    "    # faz um flush da mensagem\n",
    "    producer.flush()"
   ]
  }
 ],
 "metadata": {
  "kernelspec": {
   "display_name": "Python 3",
   "language": "python",
   "name": "python3"
  },
  "language_info": {
   "codemirror_mode": {
    "name": "ipython",
    "version": 3
   },
   "file_extension": ".py",
   "mimetype": "text/x-python",
   "name": "python",
   "nbconvert_exporter": "python",
   "pygments_lexer": "ipython3",
   "version": "3.6.10"
  }
 },
 "nbformat": 4,
 "nbformat_minor": 2
}
